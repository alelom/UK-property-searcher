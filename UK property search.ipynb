{
 "cells": [
  {
   "cell_type": "code",
   "execution_count": 7,
   "metadata": {
    "pycharm": {
     "name": "#%%\n"
    }
   },
   "outputs": [],
   "source": [
    "INSTALL_PACKAGES = False\n",
    "if INSTALL_PACKAGES:\n",
    "    ! pip install --user rightmove-webscraper --quiet\n",
    "    ! pip install pytesseract --quiet\n",
    "    ! pip install requests --quiet\n",
    "    ! pip install bs4 --quiet\n",
    "    ! pip install pywebcopy --quiet\n",
    "    ! pip install pycurl --quiet\n",
    "    ! pip install selenium\n",
    "    ! pip install keyboard\n",
    "    ! pip install nltk"
   ]
  },
  {
   "cell_type": "markdown",
   "metadata": {
    "pycharm": {
     "name": "#%% md\n"
    }
   },
   "source": [
    "# Imports"
   ]
  },
  {
   "cell_type": "code",
   "source": [
    "from itertools import chain"
   ],
   "metadata": {
    "collapsed": false,
    "pycharm": {
     "name": "#%%\n"
    }
   },
   "execution_count": 210,
   "outputs": []
  },
  {
   "cell_type": "code",
   "execution_count": 194,
   "outputs": [],
   "source": [
    "from PIL import Image\n",
    "from pytesseract import pytesseract\n",
    "import pytesseract\n",
    "import nltk"
   ],
   "metadata": {
    "collapsed": false,
    "pycharm": {
     "name": "#%%\n"
    }
   }
  },
  {
   "cell_type": "code",
   "execution_count": 10,
   "metadata": {
    "pycharm": {
     "name": "#%%\n"
    }
   },
   "outputs": [
    {
     "name": "stderr",
     "output_type": "stream",
     "text": [
      "C:\\ProgramData\\Anaconda3\\lib\\site-packages\\requests\\__init__.py:89: RequestsDependencyWarning: urllib3 (1.26.9) or chardet (3.0.4) doesn't match a supported version!\n",
      "  warnings.warn(\"urllib3 ({}) or chardet ({}) doesn't match a supported \"\n"
     ]
    }
   ],
   "source": [
    "import pywebcopy\n",
    "from rightmove_webscraper import RightmoveData\n",
    "import pandas as pd"
   ]
  },
  {
   "cell_type": "code",
   "execution_count": 332,
   "metadata": {
    "pycharm": {
     "name": "#%%\n"
    }
   },
   "outputs": [
    {
     "data": {
      "text/plain": "<module 'ukpropsearch_utils' from 'C:\\\\Users\\\\alexl\\\\Documents\\\\GitHub\\\\UK-property-searcher\\\\ukpropsearch_utils.py'>"
     },
     "execution_count": 332,
     "metadata": {},
     "output_type": "execute_result"
    }
   ],
   "source": [
    "import os\n",
    "import shutil\n",
    "import re\n",
    "import requests\n",
    "from bs4 import BeautifulSoup\n",
    "import json\n",
    "import ukpropsearch_utils as utils\n",
    "import importlib\n",
    "importlib.reload(utils)"
   ]
  },
  {
   "cell_type": "markdown",
   "metadata": {
    "pycharm": {
     "name": "#%% md\n"
    }
   },
   "source": [
    "## Utils"
   ]
  },
  {
   "cell_type": "code",
   "execution_count": 12,
   "metadata": {
    "pycharm": {
     "name": "#%%\n"
    }
   },
   "outputs": [
    {
     "data": {
      "text/plain": "['gna-2', 'zurli-1', 'gna-1']"
     },
     "execution_count": 12,
     "metadata": {},
     "output_type": "execute_result"
    }
   ],
   "source": [
    "utils.only_text_containing([\"gna-1\", \"gna-2\", \"zurli-1\", \"peppo-1\"], [\"gna\", \"zurli\"])"
   ]
  },
  {
   "cell_type": "markdown",
   "metadata": {
    "pycharm": {
     "name": "#%% md\n"
    }
   },
   "source": [
    "## Rightmove string building"
   ]
  },
  {
   "cell_type": "code",
   "execution_count": 13,
   "metadata": {
    "pycharm": {
     "name": "#%%\n"
    }
   },
   "outputs": [],
   "source": [
    "london_r3miles_url = \"https://www.rightmove.co.uk/property-for-sale/find.html?minBedrooms=2&keywords=&dontShow=sharedOwnership%2Cretirement&channel=BUY&index=0&retirement=false&maxBedrooms=2&includeSSTC=false&partBuyPartRent=false&sortType=2&minPrice=400000&viewType=LIST&maxPrice=450000&radius=3.0&maxDaysSinceAdded=14&locationIdentifier=REGION%5E87490\""
   ]
  },
  {
   "cell_type": "code",
   "execution_count": 185,
   "metadata": {
    "pycharm": {
     "name": "#%%\n"
    }
   },
   "outputs": [
    {
     "data": {
      "text/plain": "   number_bedrooms  count           mean\n0                2    552  449094.202899",
      "text/html": "<div>\n<style scoped>\n    .dataframe tbody tr th:only-of-type {\n        vertical-align: middle;\n    }\n\n    .dataframe tbody tr th {\n        vertical-align: top;\n    }\n\n    .dataframe thead th {\n        text-align: right;\n    }\n</style>\n<table border=\"1\" class=\"dataframe\">\n  <thead>\n    <tr style=\"text-align: right;\">\n      <th></th>\n      <th>number_bedrooms</th>\n      <th>count</th>\n      <th>mean</th>\n    </tr>\n  </thead>\n  <tbody>\n    <tr>\n      <td>0</td>\n      <td>2</td>\n      <td>552</td>\n      <td>449094.202899</td>\n    </tr>\n  </tbody>\n</table>\n</div>"
     },
     "execution_count": 185,
     "metadata": {},
     "output_type": "execute_result"
    }
   ],
   "source": [
    "london_r3miles = RightmoveData(london_r3miles_url)\n",
    "london_r3miles_results = london_r3miles.get_results\n",
    "london_r3miles.summary()"
   ]
  },
  {
   "cell_type": "code",
   "execution_count": 453,
   "outputs": [
    {
     "name": "stdout",
     "output_type": "stream",
     "text": [
      "13TrobridgeParadeGrahameParkWayLondonNW9\n",
      "http://www.rightmove.co.uk/properties/120961427#/\n",
      "http://www.rightmove.co.uk/properties/120961427#/floorplan\n"
     ]
    }
   ],
   "source": [
    "test_property = london_r3miles_results.iloc[3]\n",
    "test_property_url = test_property.url\n",
    "test_property_url = test_property_url.split('#')[0] + \"#/\"\n",
    "test_property_floorplan_url = test_property_url + \"floorplan\"\n",
    "test_property_hashkey = re.sub(r'[^\\w]', '', f\"{test_property.address}\")\n",
    "print(test_property_hashkey)\n",
    "print(test_property_url)\n",
    "print(test_property_floorplan_url)"
   ],
   "metadata": {
    "collapsed": false,
    "pycharm": {
     "name": "#%%\n"
    }
   }
  },
  {
   "cell_type": "code",
   "execution_count": 454,
   "metadata": {
    "pycharm": {
     "name": "#%%\n"
    }
   },
   "outputs": [],
   "source": [
    "html_data = requests.get(test_property_url).text"
   ]
  },
  {
   "cell_type": "code",
   "execution_count": 455,
   "metadata": {
    "pycharm": {
     "name": "#%%\n"
    }
   },
   "outputs": [],
   "source": [
    "soup = BeautifulSoup(html_data, 'html.parser')\n",
    "all_items = soup.find_all()\n",
    "all_items_str = [str(item) for item in all_items]"
   ]
  },
  {
   "cell_type": "code",
   "execution_count": 456,
   "metadata": {
    "pycharm": {
     "name": "#%%\n"
    }
   },
   "outputs": [],
   "source": [
    "with open('test.txt', mode='wt', encoding='utf-8') as myfile:\n",
    "    myfile.write('\\n'.join(all_items_str))"
   ]
  },
  {
   "cell_type": "code",
   "execution_count": 457,
   "metadata": {
    "pycharm": {
     "name": "#%%\n"
    }
   },
   "outputs": [],
   "source": [
    "img_urls_hd = utils.only_text_containing(all_items_str, [\".png\", \".jpg\", \".jpeg\"])\n",
    "floorplan_imgs_hd = utils.only_text_containing(img_urls_hd, [\"floorplan\"], True)\n",
    "floorplan_imgs_hd = utils.only_text_containing(floorplan_imgs_hd, [\"FLP\"])\n",
    "\n",
    "cache_folder = f'{os.getcwd()}\\\\cache'\n",
    "images_folder = f'{os.getcwd()}\\\\images'\n",
    "floorplan_imgs_hd_download_folder = f\"{cache_folder}\\\\{test_property_hashkey}\"\n",
    "floorplan_imgs_hd_download_fullpath = f\"{floorplan_imgs_hd_download_folder}\\\\{test_property_hashkey}.html\""
   ]
  },
  {
   "cell_type": "code",
   "execution_count": null,
   "outputs": [],
   "source": [
    "utils.save_list_to_file(floorplan_imgs_hd)"
   ],
   "metadata": {
    "collapsed": false,
    "pycharm": {
     "name": "#%%\n"
    }
   }
  },
  {
   "cell_type": "code",
   "execution_count": null,
   "outputs": [],
   "source": [
    "img_urls_hd = len(img_urls_hd)"
   ],
   "metadata": {
    "collapsed": false,
    "pycharm": {
     "name": "#%%\n"
    }
   }
  },
  {
   "cell_type": "code",
   "execution_count": null,
   "outputs": [],
   "source": [
    "soup = BeautifulSoup(html_data, 'html.parser')\n",
    "all_img_urls = soup.find_all('img')\n",
    "for item in all_img_urls:\n",
    "    if (\"floorplan\" in item[\"alt\"].lower()):\n",
    "        print(item[\"src\"])"
   ],
   "metadata": {
    "collapsed": false,
    "pycharm": {
     "name": "#%%\n"
    }
   }
  },
  {
   "cell_type": "code",
   "execution_count": null,
   "outputs": [],
   "source": [
    "kwargs = {'bypass_robots': True, 'project_name': test_property_hashkey}\n",
    "# pywebcopy.save_webpage(test_property_url, download_folder, **kwargs) # this freezes after downloading a few files"
   ],
   "metadata": {
    "collapsed": false,
    "pycharm": {
     "name": "#%%\n"
    }
   }
  },
  {
   "cell_type": "code",
   "execution_count": 461,
   "outputs": [],
   "source": [
    "import time\n",
    "from selenium import webdriver\n",
    "import keyboard"
   ],
   "metadata": {
    "collapsed": false,
    "pycharm": {
     "name": "#%%\n"
    }
   }
  },
  {
   "cell_type": "code",
   "execution_count": 462,
   "outputs": [],
   "source": [
    "driver = webdriver.Chrome()  # Optional argument, if not specified will search path.\n",
    "driver.get(test_property_floorplan_url);"
   ],
   "metadata": {
    "collapsed": false,
    "pycharm": {
     "name": "#%%\n"
    }
   }
  },
  {
   "cell_type": "code",
   "execution_count": 445,
   "outputs": [],
   "source": [
    "if not os.path.exists(floorplan_imgs_hd_download_folder):\n",
    "    os.mkdir(floorplan_imgs_hd_download_folder)"
   ],
   "metadata": {
    "collapsed": false,
    "pycharm": {
     "name": "#%%\n"
    }
   }
  },
  {
   "cell_type": "code",
   "execution_count": 446,
   "outputs": [],
   "source": [
    "keyboard.press_and_release('ctrl+s')\n",
    "time.sleep(0.5)\n",
    "keyboard.write(floorplan_imgs_hd_download_fullpath)\n",
    "keyboard.press_and_release('enter')"
   ],
   "metadata": {
    "collapsed": false,
    "pycharm": {
     "name": "#%%\n"
    }
   }
  },
  {
   "cell_type": "code",
   "execution_count": 447,
   "outputs": [
    {
     "ename": "IndexError",
     "evalue": "list index out of range",
     "output_type": "error",
     "traceback": [
      "\u001B[1;31m---------------------------------------------------------------------------\u001B[0m",
      "\u001B[1;31mIndexError\u001B[0m                                Traceback (most recent call last)",
      "\u001B[1;32m~\\AppData\\Local\\Temp/ipykernel_11620/1521730858.py\u001B[0m in \u001B[0;36m<module>\u001B[1;34m\u001B[0m\n\u001B[0;32m      1\u001B[0m \u001B[0mimportlib\u001B[0m\u001B[1;33m.\u001B[0m\u001B[0mreload\u001B[0m\u001B[1;33m(\u001B[0m\u001B[0mutils\u001B[0m\u001B[1;33m)\u001B[0m\u001B[1;33m\u001B[0m\u001B[1;33m\u001B[0m\u001B[0m\n\u001B[0;32m      2\u001B[0m \u001B[0mimage_paths\u001B[0m \u001B[1;33m=\u001B[0m \u001B[0mutils\u001B[0m\u001B[1;33m.\u001B[0m\u001B[0mfind_files\u001B[0m\u001B[1;33m(\u001B[0m\u001B[1;33m[\u001B[0m\u001B[1;34m'*.jpeg'\u001B[0m\u001B[1;33m,\u001B[0m \u001B[1;34m\"*.png\"\u001B[0m\u001B[1;33m,\u001B[0m \u001B[1;34m\"*.jpg\"\u001B[0m\u001B[1;33m]\u001B[0m\u001B[1;33m,\u001B[0m \u001B[0mfloorplan_imgs_hd_download_folder\u001B[0m\u001B[1;33m)\u001B[0m\u001B[1;33m\u001B[0m\u001B[1;33m\u001B[0m\u001B[0m\n\u001B[1;32m----> 3\u001B[1;33m \u001B[0mfloorplan_img_hd_path\u001B[0m \u001B[1;33m=\u001B[0m \u001B[1;33m[\u001B[0m\u001B[0mimage_path\u001B[0m \u001B[1;32mfor\u001B[0m \u001B[0mimage_path\u001B[0m \u001B[1;32min\u001B[0m \u001B[0mimage_paths\u001B[0m \u001B[1;32mif\u001B[0m \u001B[1;34m\"FLP\"\u001B[0m \u001B[1;32min\u001B[0m \u001B[0mimage_path\u001B[0m\u001B[1;33m]\u001B[0m\u001B[1;33m[\u001B[0m\u001B[1;36m0\u001B[0m\u001B[1;33m]\u001B[0m\u001B[1;33m\u001B[0m\u001B[1;33m\u001B[0m\u001B[0m\n\u001B[0m",
      "\u001B[1;31mIndexError\u001B[0m: list index out of range"
     ]
    }
   ],
   "source": [
    "importlib.reload(utils)\n",
    "image_paths = utils.find_files(['*.jpeg', \"*.png\", \"*.jpg\"], floorplan_imgs_hd_download_folder)\n",
    "floorplan_img_hd_path = [image_path for image_path in image_paths if \"FLP\" in image_path][0]"
   ],
   "metadata": {
    "collapsed": false,
    "pycharm": {
     "name": "#%%\n"
    }
   }
  },
  {
   "cell_type": "code",
   "execution_count": null,
   "outputs": [],
   "source": [
    "# Copy the image in the 'images' folder\n",
    "if not os.path.exists(images_folder):\n",
    "    os.mkdir(images_folder)\n",
    "\n",
    "floorplan_img_hd_filename = floorplan_img_hd_path.split(\"\\\\\")[-1]\n",
    "\n",
    "new_path = os.path.join(images_folder, floorplan_img_hd_filename)\n",
    "shutil.copy2(floorplan_img_hd_path, new_path)\n",
    "floorplan_img_hd_path = new_path"
   ],
   "metadata": {
    "collapsed": false,
    "pycharm": {
     "name": "#%%\n"
    }
   }
  },
  {
   "cell_type": "code",
   "execution_count": null,
   "outputs": [],
   "source": [
    "# Clean the cache from this download\n",
    "shutil.rmtree(floorplan_imgs_hd_download_folder)"
   ],
   "metadata": {
    "collapsed": false,
    "pycharm": {
     "name": "#%%\n"
    }
   }
  },
  {
   "cell_type": "markdown",
   "source": [
    "# Text recognition"
   ],
   "metadata": {
    "collapsed": false,
    "pycharm": {
     "name": "#%% md\n"
    }
   }
  },
  {
   "cell_type": "code",
   "execution_count": null,
   "outputs": [],
   "source": [
    "floorplan_img_hd_path"
   ],
   "metadata": {
    "collapsed": false,
    "pycharm": {
     "name": "#%%\n"
    }
   }
  },
  {
   "cell_type": "code",
   "execution_count": null,
   "outputs": [],
   "source": [
    "tesseract_install_path = r\"C:\\Program Files\\Tesseract-OCR\\tesseract.exe\" # needs updating depending on x64-x86 and OS\n",
    "pytesseract.pytesseract.tesseract_cmd = tesseract_install_path"
   ],
   "metadata": {
    "collapsed": false,
    "pycharm": {
     "name": "#%%\n"
    }
   }
  },
  {
   "cell_type": "code",
   "execution_count": null,
   "outputs": [],
   "source": [
    "# Simple image to string\n",
    "floorplan_text = pytesseract.image_to_string(Image.open(floorplan_img_hd_path)).split(\"\\n\")"
   ],
   "metadata": {
    "collapsed": false,
    "pycharm": {
     "name": "#%%\n"
    }
   }
  },
  {
   "cell_type": "code",
   "execution_count": null,
   "outputs": [],
   "source": [
    "floorplan_text = [t.replace(\"\\n\", \"\") for t in floorplan_text if t]"
   ],
   "metadata": {
    "collapsed": false,
    "pycharm": {
     "name": "#%%\n"
    }
   }
  },
  {
   "cell_type": "code",
   "execution_count": null,
   "outputs": [],
   "source": [
    "floorplan_text"
   ],
   "metadata": {
    "collapsed": false,
    "pycharm": {
     "name": "#%%\n"
    }
   }
  },
  {
   "cell_type": "code",
   "execution_count": null,
   "outputs": [],
   "source": [
    "from nltk.corpus import wordnet\n",
    "nltk.download(\"wordnet\")"
   ],
   "metadata": {
    "collapsed": false,
    "pycharm": {
     "name": "#%%\n"
    }
   }
  },
  {
   "cell_type": "code",
   "execution_count": null,
   "outputs": [],
   "source": [
    "room_hyponyms = wordnet.synsets('room')[0].hyponyms()"
   ],
   "metadata": {
    "collapsed": false,
    "pycharm": {
     "name": "#%%\n"
    }
   }
  },
  {
   "cell_type": "code",
   "execution_count": null,
   "outputs": [],
   "source": [
    "room_hyponyms = [hyp.lemma_names() for hyp in room_hyponyms]"
   ],
   "metadata": {
    "collapsed": false,
    "pycharm": {
     "name": "#%%\n"
    }
   }
  },
  {
   "cell_type": "code",
   "execution_count": null,
   "outputs": [],
   "source": [
    "# selectMany\n",
    "room_names_set = set([hpy.replace('_', ' ') for hyp_lemma in room_hyponyms for hpy in hyp_lemma])"
   ],
   "metadata": {
    "collapsed": false,
    "pycharm": {
     "name": "#%%\n"
    }
   }
  },
  {
   "cell_type": "code",
   "execution_count": null,
   "outputs": [],
   "source": [
    "# Outdoor space hyponyms\n",
    "outdoor_space_hyponyms = [\"patio\", \"garden\", \"terrace\", \"balcony\"]\n",
    "outdoor_space_hyponyms_communal = [f\"communal {hyp}\" for hyp in outdoor_space_hyponyms]\n",
    "outdoor_space_hyponyms_private = [f\"private {hyp}\" for hyp in outdoor_space_hyponyms]"
   ],
   "metadata": {
    "collapsed": false,
    "pycharm": {
     "name": "#%%\n"
    }
   }
  },
  {
   "cell_type": "code",
   "execution_count": null,
   "outputs": [],
   "source": [
    "# Add more names\n",
    "room_names_set.update([\"studio\", \"garden studio\"])\n",
    "room_names_set.update(outdoor_space_hyponyms)\n",
    "room_names = list(room_names_set)"
   ],
   "metadata": {
    "collapsed": false,
    "pycharm": {
     "name": "#%%\n"
    }
   }
  },
  {
   "cell_type": "code",
   "execution_count": null,
   "outputs": [],
   "source": [
    "# find room names in the floorplan\n",
    "room_indexes = [floorplan_text.index(t) for t in floorplan_text if t.lower() in room_names]\n",
    "rooms_found = [floorplan_text[index] for index in room_indexes]"
   ],
   "metadata": {
    "collapsed": false,
    "pycharm": {
     "name": "#%%\n"
    }
   }
  },
  {
   "cell_type": "code",
   "execution_count": null,
   "outputs": [],
   "source": [
    "rooms_found"
   ],
   "metadata": {
    "collapsed": false,
    "pycharm": {
     "name": "#%%\n"
    }
   }
  },
  {
   "cell_type": "code",
   "execution_count": null,
   "outputs": [],
   "source": [
    "# Floor number\n",
    "# Generate all ordinal names for floor\n",
    "floor_ordinal_names = [\"basement\", \"lower ground\", \"ground\"]\n",
    "floor_ordinal_names.extend([\"roof\"])\n",
    "floor_ordinal_names.extend(utils.ordinal(i) for i in range(1,100))"
   ],
   "metadata": {
    "collapsed": false,
    "pycharm": {
     "name": "#%%\n"
    }
   }
  },
  {
   "cell_type": "code",
   "execution_count": null,
   "outputs": [],
   "source": [
    "internal_area_names = [\"gross internal floor area\", \"floor area\", \"internal floor area\"]\n",
    "internal_area_names_text = list(set([text for text in floorplan_text for ian in internal_area_names if ian in text.lower()]))[0]"
   ],
   "metadata": {
    "collapsed": false,
    "pycharm": {
     "name": "#%%\n"
    }
   }
  },
  {
   "cell_type": "code",
   "execution_count": null,
   "outputs": [],
   "source": [
    "area_unit_names = [\"sqm\", \"sqmt\", \"sqft\", \"sqf\"]"
   ],
   "metadata": {
    "collapsed": false,
    "pycharm": {
     "name": "#%%\n"
    }
   }
  },
  {
   "cell_type": "code",
   "execution_count": null,
   "outputs": [],
   "source": [
    "internal_area_names_text"
   ],
   "metadata": {
    "collapsed": false,
    "pycharm": {
     "name": "#%%\n"
    }
   }
  },
  {
   "cell_type": "code",
   "execution_count": null,
   "outputs": [],
   "source": [
    "internal_area_names[1] in floorplan_text[1]"
   ],
   "metadata": {
    "collapsed": false,
    "pycharm": {
     "name": "#%%\n"
    }
   }
  },
  {
   "cell_type": "code",
   "execution_count": null,
   "outputs": [],
   "source": [
    "area_unit_names"
   ],
   "metadata": {
    "collapsed": false,
    "pycharm": {
     "name": "#%%\n"
    }
   }
  },
  {
   "cell_type": "code",
   "execution_count": null,
   "outputs": [],
   "source": [
    "regex = re.compile(rf'[0-9\\.\\s]+(?:{\"|\".join(area_unit_names)})')\n",
    "area_texts = regex.findall(internal_area_names_text.lower())\n",
    "area_texts = [at.replace(\" \",\"\") for at in area_texts]\n",
    "area_texts"
   ],
   "metadata": {
    "collapsed": false,
    "pycharm": {
     "name": "#%%\n"
    }
   }
  },
  {
   "cell_type": "code",
   "execution_count": null,
   "outputs": [],
   "source": [
    "areas = [re.findall(r'[A-Za-z]+|\\d+(?:\\.\\d+)?', s) for s in area_texts]\n",
    "areas"
   ],
   "metadata": {
    "collapsed": false,
    "pycharm": {
     "name": "#%%\n"
    }
   }
  },
  {
   "cell_type": "code",
   "execution_count": null,
   "outputs": [],
   "source": [],
   "metadata": {
    "collapsed": false,
    "pycharm": {
     "name": "#%%\n"
    }
   }
  }
 ],
 "metadata": {
  "kernelspec": {
   "display_name": "Python 3 (ipykernel)",
   "language": "python",
   "name": "python3"
  },
  "language_info": {
   "codemirror_mode": {
    "name": "ipython",
    "version": 3
   },
   "file_extension": ".py",
   "mimetype": "text/x-python",
   "name": "python",
   "nbconvert_exporter": "python",
   "pygments_lexer": "ipython3",
   "version": "3.8.0"
  },
  "toc": {
   "base_numbering": 1,
   "nav_menu": {},
   "number_sections": true,
   "sideBar": true,
   "skip_h1_title": false,
   "title_cell": "Table of Contents",
   "title_sidebar": "Contents",
   "toc_cell": false,
   "toc_position": {},
   "toc_section_display": true,
   "toc_window_display": false
  }
 },
 "nbformat": 4,
 "nbformat_minor": 1
}