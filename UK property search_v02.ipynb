{
 "cells": [
  {
   "cell_type": "code",
   "execution_count": 7,
   "metadata": {
    "pycharm": {
     "name": "#%%\n"
    }
   },
   "outputs": [],
   "source": [
    "INSTALL_PACKAGES = False\n",
    "if INSTALL_PACKAGES:\n",
    "    ! pip install --user rightmove-webscraper --quiet\n",
    "    ! pip install pytesseract --quiet\n",
    "    ! pip install requests --quiet\n",
    "    ! pip install bs4 --quiet\n",
    "    ! pip install pywebcopy --quiet\n",
    "    ! pip install pycurl --quiet\n",
    "    ! pip install selenium\n",
    "    ! pip install keyboard\n",
    "    ! pip install nltk"
   ]
  },
  {
   "cell_type": "markdown",
   "metadata": {
    "pycharm": {
     "name": "#%% md\n"
    }
   },
   "source": [
    "# Imports"
   ]
  },
  {
   "cell_type": "code",
   "execution_count": 91,
   "outputs": [],
   "source": [
    "from PIL import ImageFilter"
   ],
   "metadata": {
    "collapsed": false,
    "pycharm": {
     "name": "#%%\n"
    }
   }
  },
  {
   "cell_type": "code",
   "execution_count": 1,
   "outputs": [],
   "source": [
    "import time\n",
    "from selenium import webdriver\n",
    "import keyboard"
   ],
   "metadata": {
    "collapsed": false,
    "pycharm": {
     "name": "#%%\n"
    }
   }
  },
  {
   "cell_type": "code",
   "execution_count": 78,
   "outputs": [],
   "source": [
    "import pytesseract\n",
    "\n",
    "tesseract_install_path = r\"C:\\Program Files\\Tesseract-OCR\\tesseract.exe\" # needs updating depending on x64-x86 and OS\n",
    "pytesseract.pytesseract.tesseract_cmd = tesseract_install_path"
   ],
   "metadata": {
    "collapsed": false,
    "pycharm": {
     "name": "#%%\n"
    }
   }
  },
  {
   "cell_type": "code",
   "execution_count": null,
   "outputs": [],
   "source": [
    "import nltk"
   ],
   "metadata": {
    "collapsed": false,
    "pycharm": {
     "name": "#%%\n"
    }
   }
  },
  {
   "cell_type": "code",
   "execution_count": 3,
   "metadata": {
    "pycharm": {
     "name": "#%%\n"
    }
   },
   "outputs": [],
   "source": [
    "from rightmove_webscraper import RightmoveData"
   ]
  },
  {
   "cell_type": "code",
   "execution_count": 4,
   "metadata": {
    "pycharm": {
     "name": "#%%\n"
    }
   },
   "outputs": [
    {
     "data": {
      "text/plain": "<module 'ukpropsearch_utils' from 'C:\\\\Users\\\\alexl\\\\Documents\\\\GitHub\\\\UK-property-searcher\\\\ukpropsearch_utils.py'>"
     },
     "execution_count": 4,
     "metadata": {},
     "output_type": "execute_result"
    }
   ],
   "source": [
    "import os\n",
    "import glob\n",
    "import shutil\n",
    "import re\n",
    "import requests\n",
    "from bs4 import BeautifulSoup\n",
    "import ukpropsearch_utils as utils\n",
    "import importlib\n",
    "importlib.reload(utils)"
   ]
  },
  {
   "cell_type": "markdown",
   "metadata": {
    "pycharm": {
     "name": "#%% md\n"
    }
   },
   "source": [
    "## Rightmove string building"
   ]
  },
  {
   "cell_type": "code",
   "execution_count": 5,
   "metadata": {
    "pycharm": {
     "name": "#%%\n"
    }
   },
   "outputs": [],
   "source": [
    "london_r3miles_url = \"https://www.rightmove.co.uk/property-for-sale/find.html?minBedrooms=2&keywords=&dontShow=sharedOwnership%2Cretirement&channel=BUY&index=0&retirement=false&maxBedrooms=2&includeSSTC=false&partBuyPartRent=false&sortType=2&minPrice=400000&viewType=LIST&maxPrice=450000&radius=3.0&maxDaysSinceAdded=14&locationIdentifier=REGION%5E87490\""
   ]
  },
  {
   "cell_type": "code",
   "execution_count": 6,
   "metadata": {
    "pycharm": {
     "name": "#%%\n"
    }
   },
   "outputs": [
    {
     "data": {
      "text/plain": "   number_bedrooms  count           mean\n0                2    575  448834.695652",
      "text/html": "<div>\n<style scoped>\n    .dataframe tbody tr th:only-of-type {\n        vertical-align: middle;\n    }\n\n    .dataframe tbody tr th {\n        vertical-align: top;\n    }\n\n    .dataframe thead th {\n        text-align: right;\n    }\n</style>\n<table border=\"1\" class=\"dataframe\">\n  <thead>\n    <tr style=\"text-align: right;\">\n      <th></th>\n      <th>number_bedrooms</th>\n      <th>count</th>\n      <th>mean</th>\n    </tr>\n  </thead>\n  <tbody>\n    <tr>\n      <td>0</td>\n      <td>2</td>\n      <td>575</td>\n      <td>448834.695652</td>\n    </tr>\n  </tbody>\n</table>\n</div>"
     },
     "execution_count": 6,
     "metadata": {},
     "output_type": "execute_result"
    }
   ],
   "source": [
    "london_r3miles = RightmoveData(london_r3miles_url)\n",
    "london_r3miles_results = london_r3miles.get_results\n",
    "london_r3miles.summary()"
   ]
  },
  {
   "cell_type": "code",
   "execution_count": 150,
   "outputs": [
    {
     "name": "stdout",
     "output_type": "stream",
     "text": [
      "RaleighRoadLondonN8\n",
      "http://www.rightmove.co.uk/properties/121008602#/\n",
      "http://www.rightmove.co.uk/properties/121008602#/floorplan\n"
     ]
    }
   ],
   "source": [
    "test_property = london_r3miles_results.iloc[3]\n",
    "test_property_url = test_property.url\n",
    "test_property_url = test_property_url.split('#')[0] + \"#/\"\n",
    "test_property_floorplan_url = test_property_url + \"floorplan\"\n",
    "test_property_hashkey = re.sub(r'[^\\w]', '', f\"{test_property.address}\")\n",
    "print(test_property_hashkey)\n",
    "print(test_property_url)\n",
    "print(test_property_floorplan_url)"
   ],
   "metadata": {
    "collapsed": false,
    "pycharm": {
     "name": "#%%\n"
    }
   }
  },
  {
   "cell_type": "code",
   "execution_count": 213,
   "outputs": [],
   "source": [
    "from bs4 import BeautifulSoup\n",
    "from selenium import webdriver\n",
    "from selenium.webdriver.common.by import By\n",
    "from selenium.webdriver.support.ui import WebDriverWait\n",
    "from selenium.webdriver.support import expected_conditions as EC\n",
    "\n",
    "listUrls = [test_property_floorplan_url]\n",
    "browser = webdriver.Chrome()\n",
    "urls=[]\n",
    "\n",
    "for url in listUrls:\n",
    "    browser.get(url)\n",
    "    soup = BeautifulSoup(browser.page_source,\"html.parser\")\n",
    "    for link in soup.find_all('img'):\n",
    "        urls.append(link['src'])"
   ],
   "metadata": {
    "collapsed": false,
    "pycharm": {
     "name": "#%%\n"
    }
   }
  },
  {
   "cell_type": "code",
   "execution_count": 214,
   "outputs": [
    {
     "data": {
      "text/plain": "['https://media.rightmove.co.uk/37k/36308/121008602/36308_HAR220115_IMG_00_0000.jpeg',\n 'https://media.rightmove.co.uk/37k/36308/121008602/36308_HAR220115_IMG_01_0000.jpeg',\n 'https://media.rightmove.co.uk/37k/36308/121008602/36308_HAR220115_IMG_02_0000.jpeg',\n 'https://media.rightmove.co.uk/37k/36308/121008602/36308_HAR220115_IMG_03_0000.jpeg',\n 'https://media.rightmove.co.uk/37k/36308/121008602/36308_HAR220115_IMG_04_0000.jpeg',\n 'https://media.rightmove.co.uk/37k/36308/121008602/36308_HAR220115_IMG_05_0000.jpeg',\n 'https://media.rightmove.co.uk/37k/36308/121008602/36308_HAR220115_IMG_06_0000.jpeg',\n 'https://media.rightmove.co.uk/37k/36308/121008602/36308_HAR220115_IMG_07_0000.jpeg',\n 'https://media.rightmove.co.uk/37k/36308/121008602/36308_HAR220115_IMG_08_0000.jpeg',\n 'https://media.rightmove.co.uk/37k/36308/121008602/36308_HAR220115_IMG_09_0000.jpeg',\n 'https://media.rightmove.co.uk/37k/36308/121008602/36308_HAR220115_IMG_10_0000.jpeg',\n 'https://media.rightmove.co.uk/37k/36308/121008602/36308_HAR220115_IMG_11_0000.jpeg',\n 'https://media.rightmove.co.uk/37k/36308/121008602/36308_HAR220115_IMG_12_0000.jpeg',\n 'https://media.rightmove.co.uk/37k/36308/121008602/36308_HAR220115_IMG_13_0000.jpeg',\n 'https://media.rightmove.co.uk/37k/36308/121008602/36308_HAR220115_IMG_14_0000.jpeg',\n 'https://media.rightmove.co.uk/37k/36308/121008602/36308_HAR220115_FLP_00_0001.jpeg']"
     },
     "execution_count": 214,
     "metadata": {},
     "output_type": "execute_result"
    }
   ],
   "source": [
    "urls"
   ],
   "metadata": {
    "collapsed": false,
    "pycharm": {
     "name": "#%%\n"
    }
   }
  },
  {
   "cell_type": "code",
   "execution_count": 216,
   "outputs": [
    {
     "data": {
      "text/plain": "'https://media.rightmove.co.uk/37k/36308/121008602/36308_HAR220115_FLP_00_0001.jpeg'"
     },
     "execution_count": 216,
     "metadata": {},
     "output_type": "execute_result"
    }
   ],
   "source": [
    "test_property_floorplan_url = [url for url in urls if \"FLP\" in url][0]\n",
    "test_property_floorplan_url"
   ],
   "metadata": {
    "collapsed": false,
    "pycharm": {
     "name": "#%%\n"
    }
   }
  },
  {
   "cell_type": "code",
   "execution_count": 151,
   "metadata": {
    "pycharm": {
     "name": "#%%\n"
    }
   },
   "outputs": [],
   "source": [
    "cache_folder = f'{os.getcwd()}\\\\cache'\n",
    "images_folder = f'{os.getcwd()}\\\\images'\n",
    "floorplan_imgs_hd_download_folder = f\"{cache_folder}\\\\{test_property_hashkey}\"\n",
    "floorplan_imgs_hd_download_fullpath = f\"{floorplan_imgs_hd_download_folder}\\\\{test_property_hashkey}.html\"\n",
    "\n",
    "# Make sure cache folder exists\n",
    "if not os.path.exists(cache_folder):\n",
    "    os.mkdir(cache_folder)\n",
    "\n",
    "# Make sure images folder exists\n",
    "if not os.path.exists(images_folder):\n",
    "    os.mkdir(images_folder)\n",
    "\n",
    "# Floorplan destination image fullpath\n",
    "floorplan_destination_img_filename = test_property_hashkey\n",
    "floorplan_destination_img_path = os.path.join(images_folder, floorplan_destination_img_filename)"
   ]
  },
  {
   "cell_type": "code",
   "execution_count": 152,
   "outputs": [
    {
     "data": {
      "text/plain": "'C:\\\\Users\\\\alexl\\\\Documents\\\\GitHub\\\\UK-property-searcher\\\\images\\\\RaleighRoadLondonN8'"
     },
     "execution_count": 152,
     "metadata": {},
     "output_type": "execute_result"
    }
   ],
   "source": [
    "floorplan_destination_img_path"
   ],
   "metadata": {
    "collapsed": false,
    "pycharm": {
     "name": "#%%\n"
    }
   }
  },
  {
   "cell_type": "code",
   "execution_count": 153,
   "outputs": [],
   "source": [
    "importlib.reload(utils)\n",
    "def wait_for_floorplan_download_finish():\n",
    "    floorplan_img_hd_path = \"\"\n",
    "    while not os.path.exists(floorplan_img_hd_path):\n",
    "        try:\n",
    "            image_paths = utils.find_files(['*.jpeg', \"*.png\", \"*.jpg\"], floorplan_imgs_hd_download_folder)\n",
    "            floorplan_img_hd_path = [image_path for image_path in image_paths if \"FLP\" in image_path][0]\n",
    "            time.sleep(0.1)\n",
    "        except:\n",
    "            pass\n",
    "\n",
    "    return floorplan_img_hd_path"
   ],
   "metadata": {
    "collapsed": false,
    "pycharm": {
     "name": "#%%\n"
    }
   }
  },
  {
   "cell_type": "code",
   "execution_count": 154,
   "outputs": [
    {
     "data": {
      "text/plain": "'C:\\\\Users\\\\alexl\\\\Documents\\\\GitHub\\\\UK-property-searcher\\\\images\\\\RaleighRoadLondonN8'"
     },
     "execution_count": 154,
     "metadata": {},
     "output_type": "execute_result"
    }
   ],
   "source": [
    "floorplan_destination_img_path"
   ],
   "metadata": {
    "collapsed": false,
    "pycharm": {
     "name": "#%%\n"
    }
   }
  },
  {
   "cell_type": "code",
   "execution_count": 155,
   "outputs": [],
   "source": [
    "if not utils.file_exists_with_or_without_extension(floorplan_destination_img_path):\n",
    "    if not os.path.exists(floorplan_imgs_hd_download_fullpath):\n",
    "        if not os.path.exists(floorplan_imgs_hd_download_folder):\n",
    "            os.makedirs(floorplan_imgs_hd_download_folder)\n",
    "\n",
    "        # Open Chrome at url and maximise\n",
    "        driver = webdriver.Chrome()  # Optional argument, if not specified will search path.\n",
    "        driver.get(test_property_floorplan_url);\n",
    "        driver.maximize_window()\n",
    "\n",
    "        # Save the whole page\n",
    "        time.sleep(0.1)\n",
    "        keyboard.press_and_release('ctrl+s')\n",
    "        time.sleep(0.4)\n",
    "        keyboard.write(floorplan_imgs_hd_download_fullpath)\n",
    "        keyboard.press_and_release('enter')\n",
    "        time.sleep(5)\n",
    "        floorplan_img_hd_path = wait_for_floorplan_download_finish()\n",
    "        driver.close()\n",
    "\n",
    "    # Copy img to destination path\n",
    "    floorplan_destination_img_path = floorplan_destination_img_path + \".\" + floorplan_img_hd_path.split(\".\")[-1] # add extension from downloaded file\n",
    "    shutil.copy2(floorplan_img_hd_path, floorplan_destination_img_path)\n",
    "\n",
    "    # Clean the cache from this download\n",
    "    shutil.rmtree(floorplan_imgs_hd_download_folder)"
   ],
   "metadata": {
    "collapsed": false,
    "pycharm": {
     "name": "#%%\n"
    }
   }
  },
  {
   "cell_type": "code",
   "execution_count": 156,
   "outputs": [
    {
     "data": {
      "text/plain": "'C:\\\\Users\\\\alexl\\\\Documents\\\\GitHub\\\\UK-property-searcher\\\\images\\\\RaleighRoadLondonN8.jpeg'"
     },
     "execution_count": 156,
     "metadata": {},
     "output_type": "execute_result"
    }
   ],
   "source": [
    "floorplan_destination_img_path"
   ],
   "metadata": {
    "collapsed": false,
    "pycharm": {
     "name": "#%%\n"
    }
   }
  },
  {
   "cell_type": "markdown",
   "source": [
    "# Text recognition"
   ],
   "metadata": {
    "collapsed": false,
    "pycharm": {
     "name": "#%% md\n"
    }
   }
  },
  {
   "cell_type": "code",
   "execution_count": 157,
   "outputs": [
    {
     "data": {
      "text/plain": "'C:\\\\Users\\\\alexl\\\\Documents\\\\GitHub\\\\UK-property-searcher\\\\images\\\\RaleighRoadLondonN8_upscaled.jpeg'"
     },
     "execution_count": 157,
     "metadata": {},
     "output_type": "execute_result"
    }
   ],
   "source": [
    "upscaled_img_path = f\"{floorplan_destination_img_path.split('.')[0]}_upscaled.{floorplan_destination_img_path.split('.')[-1]}\"\n",
    "upscaled_img_path"
   ],
   "metadata": {
    "collapsed": false,
    "pycharm": {
     "name": "#%%\n"
    }
   }
  },
  {
   "cell_type": "code",
   "execution_count": 158,
   "outputs": [
    {
     "data": {
      "text/plain": "(1464, 3051)"
     },
     "execution_count": 158,
     "metadata": {},
     "output_type": "execute_result"
    }
   ],
   "source": [
    "from PIL import Image\n",
    "c = Image.open(floorplan_destination_img_path)\n",
    "new_size = (int(c.width*3), int(c.height*3))\n",
    "new_size"
   ],
   "metadata": {
    "collapsed": false,
    "pycharm": {
     "name": "#%%\n"
    }
   }
  },
  {
   "cell_type": "code",
   "execution_count": 159,
   "outputs": [],
   "source": [
    "# Upscale image\n",
    "c = c.filter(ImageFilter.SHARPEN)\n",
    "d = c.resize(new_size, resample=Image.ADAPTIVE)"
   ],
   "metadata": {
    "collapsed": false,
    "pycharm": {
     "name": "#%%\n"
    }
   }
  },
  {
   "cell_type": "code",
   "execution_count": 160,
   "outputs": [],
   "source": [
    "d = d.filter(ImageFilter.SHARPEN)"
   ],
   "metadata": {
    "collapsed": false,
    "pycharm": {
     "name": "#%%\n"
    }
   }
  },
  {
   "cell_type": "code",
   "execution_count": 161,
   "outputs": [],
   "source": [
    "d.save(upscaled_img_path, format='JPEG', subsampling=0, quality=100)"
   ],
   "metadata": {
    "collapsed": false,
    "pycharm": {
     "name": "#%%\n"
    }
   }
  },
  {
   "cell_type": "code",
   "execution_count": 162,
   "outputs": [],
   "source": [
    "# Simple image to string\n",
    "floorplan_text = pytesseract.image_to_string(Image.open(upscaled_img_path)).split(\"\\n\")"
   ],
   "metadata": {
    "collapsed": false,
    "pycharm": {
     "name": "#%%\n"
    }
   }
  },
  {
   "cell_type": "code",
   "execution_count": 163,
   "outputs": [
    {
     "data": {
      "text/plain": "['Raleigh Road, N8',\n 'Approx. Gross Internal Floor Area 695 sq. ft / 64.60 sq. m',\n 'BEDROOM 2',\n '111 x 10°1',\n '(3.37m x 3.07m)',\n 'KITCHEN',\n \"~ rey 7'9x7'2\",\n '_ (2.34m x 2.18m)',\n 'BATHROOM',\n '2x7',\n 'MASTER',\n 'BEDROOM',\n '42°41 x 10°11',\n 'fl (3.92m x 3.28m)',\n 'RECEPTION ROOM',\n '461 x 144',\n '(4.88m x 4.28m)',\n '« »',\n 'GROUND FLOOR',\n 'GROSS INTERNAL FIRST FLOOR',\n 'FLOOR AREA 15 SQ FT GROSS INTERNAL',\n 'FLOOR AREA 680 SQ FT',\n 'All Ue anil of bn bats, Aleit fabings an spelancts, ;',\n 'including their size and location, are shovm as standard sizes and do no',\n 'constitute any warranty or representation oy the seller, their agent or Wi',\n 'CP Creative. An inondiy purchaser aust satisty himself inspection or Tal acorn)',\n 'otherwise a$ to the correctness of the infarmation contained in these plans.',\n 'This plan is for ittustrative purposes only and should be used as such by',\n 'any prospective purchasers.']"
     },
     "execution_count": 163,
     "metadata": {},
     "output_type": "execute_result"
    }
   ],
   "source": [
    "floorplan_text = [t.replace(\"\\n\", \"\") for t in floorplan_text if t]\n",
    "floorplan_text"
   ],
   "metadata": {
    "collapsed": false,
    "pycharm": {
     "name": "#%%\n"
    }
   }
  },
  {
   "cell_type": "code",
   "execution_count": 164,
   "outputs": [
    {
     "name": "stderr",
     "output_type": "stream",
     "text": [
      "[nltk_data] Downloading package wordnet to\n",
      "[nltk_data]     C:\\Users\\alexl\\AppData\\Roaming\\nltk_data...\n",
      "[nltk_data]   Package wordnet is already up-to-date!\n"
     ]
    },
    {
     "data": {
      "text/plain": "True"
     },
     "execution_count": 164,
     "metadata": {},
     "output_type": "execute_result"
    }
   ],
   "source": [
    "from nltk.corpus import wordnet\n",
    "nltk.download(\"wordnet\")"
   ],
   "metadata": {
    "collapsed": false,
    "pycharm": {
     "name": "#%%\n"
    }
   }
  },
  {
   "cell_type": "code",
   "execution_count": 165,
   "outputs": [],
   "source": [
    "room_hyponyms = wordnet.synsets('room')[0].hyponyms()"
   ],
   "metadata": {
    "collapsed": false,
    "pycharm": {
     "name": "#%%\n"
    }
   }
  },
  {
   "cell_type": "code",
   "execution_count": 166,
   "outputs": [],
   "source": [
    "room_hyponyms = [hyp.lemma_names() for hyp in room_hyponyms]"
   ],
   "metadata": {
    "collapsed": false,
    "pycharm": {
     "name": "#%%\n"
    }
   }
  },
  {
   "cell_type": "code",
   "execution_count": 167,
   "outputs": [],
   "source": [
    "# selectMany\n",
    "room_names_set = set([hpy.replace('_', ' ') for hyp_lemma in room_hyponyms for hpy in hyp_lemma])"
   ],
   "metadata": {
    "collapsed": false,
    "pycharm": {
     "name": "#%%\n"
    }
   }
  },
  {
   "cell_type": "code",
   "execution_count": 168,
   "outputs": [],
   "source": [
    "# Utility spaces hyponyms\n",
    "utility_space_hyponyms = [\"driveway\", \"garage\", \"utility room\", \"utility\"]"
   ],
   "metadata": {
    "collapsed": false,
    "pycharm": {
     "name": "#%%\n"
    }
   }
  },
  {
   "cell_type": "code",
   "execution_count": 169,
   "outputs": [],
   "source": [
    "# Outdoor space hyponyms\n",
    "outdoor_space_hyponyms = [\"patio\", \"garden\", \"terrace\", \"balcony\"]\n",
    "outdoor_space_hyponyms_communal = [f\"communal {hyp}\" for hyp in outdoor_space_hyponyms]\n",
    "outdoor_space_hyponyms_private = [f\"private {hyp}\" for hyp in outdoor_space_hyponyms]"
   ],
   "metadata": {
    "collapsed": false,
    "pycharm": {
     "name": "#%%\n"
    }
   }
  },
  {
   "cell_type": "code",
   "execution_count": 170,
   "outputs": [],
   "source": [
    "# Add more names\n",
    "room_names_set.update([\"studio\", \"garden studio\"])\n",
    "room_names_set.update(outdoor_space_hyponyms)\n",
    "room_names = list(room_names_set)"
   ],
   "metadata": {
    "collapsed": false,
    "pycharm": {
     "name": "#%%\n"
    }
   }
  },
  {
   "cell_type": "code",
   "execution_count": 171,
   "outputs": [
    {
     "data": {
      "text/plain": "['Raleigh Road, N8',\n 'Approx. Gross Internal Floor Area 695 sq. ft / 64.60 sq. m',\n 'BEDROOM 2',\n '111 x 10°1',\n '(3.37m x 3.07m)',\n 'KITCHEN',\n \"~ rey 7'9x7'2\",\n '_ (2.34m x 2.18m)',\n 'BATHROOM',\n '2x7',\n 'MASTER',\n 'BEDROOM',\n '42°41 x 10°11',\n 'fl (3.92m x 3.28m)',\n 'RECEPTION ROOM',\n '461 x 144',\n '(4.88m x 4.28m)',\n '« »',\n 'GROUND FLOOR',\n 'GROSS INTERNAL FIRST FLOOR',\n 'FLOOR AREA 15 SQ FT GROSS INTERNAL',\n 'FLOOR AREA 680 SQ FT',\n 'All Ue anil of bn bats, Aleit fabings an spelancts, ;',\n 'including their size and location, are shovm as standard sizes and do no',\n 'constitute any warranty or representation oy the seller, their agent or Wi',\n 'CP Creative. An inondiy purchaser aust satisty himself inspection or Tal acorn)',\n 'otherwise a$ to the correctness of the infarmation contained in these plans.',\n 'This plan is for ittustrative purposes only and should be used as such by',\n 'any prospective purchasers.']"
     },
     "execution_count": 171,
     "metadata": {},
     "output_type": "execute_result"
    }
   ],
   "source": [
    "floorplan_text"
   ],
   "metadata": {
    "collapsed": false,
    "pycharm": {
     "name": "#%%\n"
    }
   }
  },
  {
   "cell_type": "code",
   "execution_count": 172,
   "outputs": [
    {
     "data": {
      "text/plain": "False"
     },
     "execution_count": 172,
     "metadata": {},
     "output_type": "execute_result"
    }
   ],
   "source": [
    "\"bedroom\" in floorplan_text[13].lower()"
   ],
   "metadata": {
    "collapsed": false,
    "pycharm": {
     "name": "#%%\n"
    }
   }
  },
  {
   "cell_type": "code",
   "execution_count": 173,
   "outputs": [
    {
     "data": {
      "text/plain": "['Raleigh Road, N8',\n 'Approx. Gross Internal Floor Area 695 sq. ft / 64.60 sq. m',\n 'BEDROOM 2',\n '111 x 10°1',\n '(3.37m x 3.07m)',\n 'KITCHEN',\n \"~ rey 7'9x7'2\",\n '_ (2.34m x 2.18m)',\n 'BATHROOM',\n '2x7',\n 'MASTER',\n 'BEDROOM',\n '42°41 x 10°11',\n 'fl (3.92m x 3.28m)',\n 'RECEPTION ROOM',\n '461 x 144',\n '(4.88m x 4.28m)',\n '« »',\n 'GROUND FLOOR',\n 'GROSS INTERNAL FIRST FLOOR',\n 'FLOOR AREA 15 SQ FT GROSS INTERNAL',\n 'FLOOR AREA 680 SQ FT',\n 'All Ue anil of bn bats, Aleit fabings an spelancts, ;',\n 'including their size and location, are shovm as standard sizes and do no',\n 'constitute any warranty or representation oy the seller, their agent or Wi',\n 'CP Creative. An inondiy purchaser aust satisty himself inspection or Tal acorn)',\n 'otherwise a$ to the correctness of the infarmation contained in these plans.',\n 'This plan is for ittustrative purposes only and should be used as such by',\n 'any prospective purchasers.']"
     },
     "execution_count": 173,
     "metadata": {},
     "output_type": "execute_result"
    }
   ],
   "source": [
    "floorplan_text"
   ],
   "metadata": {
    "collapsed": false,
    "pycharm": {
     "name": "#%%\n"
    }
   }
  },
  {
   "cell_type": "code",
   "execution_count": 174,
   "outputs": [],
   "source": [
    "room_names = [name for name in room_names if \"floor\" not in name]"
   ],
   "metadata": {
    "collapsed": false,
    "pycharm": {
     "name": "#%%\n"
    }
   }
  },
  {
   "cell_type": "code",
   "execution_count": 175,
   "outputs": [
    {
     "data": {
      "text/plain": "[2, 5, 8, 11, 14]"
     },
     "execution_count": 175,
     "metadata": {},
     "output_type": "execute_result"
    }
   ],
   "source": [
    "# find room names in the floorplan\n",
    "room_indexes = sorted(list(set([floorplan_text.index(t) for room_name in room_names for t in floorplan_text if len(t) < 30 and room_name in t.lower()])))\n",
    "room_indexes"
   ],
   "metadata": {
    "collapsed": false,
    "pycharm": {
     "name": "#%%\n"
    }
   }
  },
  {
   "cell_type": "code",
   "execution_count": 176,
   "outputs": [
    {
     "data": {
      "text/plain": "['BEDROOM 2', 'KITCHEN', 'BATHROOM', 'BEDROOM', 'RECEPTION ROOM']"
     },
     "execution_count": 176,
     "metadata": {},
     "output_type": "execute_result"
    }
   ],
   "source": [
    "rooms_found = [floorplan_text[index] for index in room_indexes]\n",
    "rooms_found"
   ],
   "metadata": {
    "collapsed": false,
    "pycharm": {
     "name": "#%%\n"
    }
   }
  },
  {
   "cell_type": "code",
   "execution_count": 177,
   "outputs": [],
   "source": [
    "# Floor number\n",
    "# Generate all ordinal names for floor\n",
    "floor_ordinal_names = [\"basement\", \"lower ground\", \"ground\"]\n",
    "floor_ordinal_names.extend([\"roof\"])\n",
    "floor_ordinal_names.extend(utils.ordinal(i) for i in range(1,100))"
   ],
   "metadata": {
    "collapsed": false,
    "pycharm": {
     "name": "#%%\n"
    }
   }
  },
  {
   "cell_type": "code",
   "execution_count": 192,
   "outputs": [
    {
     "data": {
      "text/plain": "'Approx. Gross Internal Floor Area 695 sq. ft / 64.60 sq. m'"
     },
     "execution_count": 192,
     "metadata": {},
     "output_type": "execute_result"
    }
   ],
   "source": [
    "internal_area_names = [\"approx. gross internal floor area\", \"approx. gross internal floor area\", \"internal floor area\", \"floor area\"]\n",
    "internal_area_names_text = list(set([text for text in floorplan_text for ian in internal_area_names if ian in text.lower()]))\n",
    "internal_area_names_text.sort(key=lambda s: len(s))\n",
    "internal_area_names_text.reverse()\n",
    "internal_area_names_text = internal_area_names_text[0]\n",
    "internal_area_names_text"
   ],
   "metadata": {
    "collapsed": false,
    "pycharm": {
     "name": "#%%\n"
    }
   }
  },
  {
   "cell_type": "code",
   "execution_count": 197,
   "outputs": [],
   "source": [
    "area_unit_names = [\"sqm\", \"sqmt\", \"sqft\", \"sqf\", \"sq. ft\", \"sq. m\"]"
   ],
   "metadata": {
    "collapsed": false,
    "pycharm": {
     "name": "#%%\n"
    }
   }
  },
  {
   "cell_type": "code",
   "execution_count": 198,
   "outputs": [
    {
     "data": {
      "text/plain": "'Approx. Gross Internal Floor Area 695 sq. ft / 64.60 sq. m'"
     },
     "execution_count": 198,
     "metadata": {},
     "output_type": "execute_result"
    }
   ],
   "source": [
    "internal_area_names_text"
   ],
   "metadata": {
    "collapsed": false,
    "pycharm": {
     "name": "#%%\n"
    }
   }
  },
  {
   "cell_type": "code",
   "execution_count": 200,
   "outputs": [
    {
     "data": {
      "text/plain": "['695sq.ft', '64.60sq.m']"
     },
     "execution_count": 200,
     "metadata": {},
     "output_type": "execute_result"
    }
   ],
   "source": [
    "regex = re.compile(rf'[0-9\\.\\s]+(?:{\"|\".join(area_unit_names)})')\n",
    "area_texts = regex.findall(internal_area_names_text.lower())\n",
    "area_texts = [at.replace(\" \",\"\") for at in area_texts]\n",
    "area_texts"
   ],
   "metadata": {
    "collapsed": false,
    "pycharm": {
     "name": "#%%\n"
    }
   }
  },
  {
   "cell_type": "code",
   "execution_count": 204,
   "outputs": [
    {
     "data": {
      "text/plain": "[['695', 'sqft'], ['64.60', 'sqm']]"
     },
     "execution_count": 204,
     "metadata": {},
     "output_type": "execute_result"
    }
   ],
   "source": [
    "areas = [re.findall(r'[A-Za-z]+|\\d+(?:\\.\\d+)?', s) for s in area_texts]\n",
    "areas = [\"\".join(a) for a in areas]\n",
    "areas = [re.findall(r'[A-Za-z]+|\\d+(?:\\.\\d+)?', s) for s in areas]\n",
    "areas"
   ],
   "metadata": {
    "collapsed": false,
    "pycharm": {
     "name": "#%%\n"
    }
   }
  },
  {
   "cell_type": "code",
   "execution_count": 180,
   "outputs": [],
   "source": [],
   "metadata": {
    "collapsed": false,
    "pycharm": {
     "name": "#%%\n"
    }
   }
  },
  {
   "cell_type": "code",
   "execution_count": 180,
   "outputs": [],
   "source": [],
   "metadata": {
    "collapsed": false,
    "pycharm": {
     "name": "#%%\n"
    }
   }
  }
 ],
 "metadata": {
  "kernelspec": {
   "display_name": "Python 3 (ipykernel)",
   "language": "python",
   "name": "python3"
  },
  "language_info": {
   "codemirror_mode": {
    "name": "ipython",
    "version": 3
   },
   "file_extension": ".py",
   "mimetype": "text/x-python",
   "name": "python",
   "nbconvert_exporter": "python",
   "pygments_lexer": "ipython3",
   "version": "3.8.0"
  },
  "toc": {
   "base_numbering": 1,
   "nav_menu": {},
   "number_sections": true,
   "sideBar": true,
   "skip_h1_title": false,
   "title_cell": "Table of Contents",
   "title_sidebar": "Contents",
   "toc_cell": false,
   "toc_position": {},
   "toc_section_display": true,
   "toc_window_display": false
  }
 },
 "nbformat": 4,
 "nbformat_minor": 1
}