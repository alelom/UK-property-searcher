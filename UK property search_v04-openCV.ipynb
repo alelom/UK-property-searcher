{
 "cells": [
  {
   "cell_type": "code",
   "execution_count": 3,
   "metadata": {
    "pycharm": {
     "name": "#%%\n"
    }
   },
   "outputs": [],
   "source": [
    "import subprocess\n",
    "\n",
    "INSTALL_PACKAGES = False\n",
    "if INSTALL_PACKAGES:\n",
    "    subprocess.run(['pip', \"install\", \"rightmove-webscraper\", \"--user\"])\n",
    "    subprocess.run(['pip', \"install\", \"pytesseractr\"])\n",
    "    subprocess.run(['pip', \"install\", \"requests\"])\n",
    "    subprocess.run(['pip', \"install\", \"bs4\"])\n",
    "    subprocess.run(['pip', \"install\", \"pywebcopy\"])\n",
    "    subprocess.run(['pip', \"install\", \"pycurl\"])\n",
    "    subprocess.run(['pip', \"install\", \"selenium\"])\n",
    "    subprocess.run(['pip', \"install\", \"nltk\"])\n",
    "    subprocess.run(['pip', \"install\", \"keyboard\"])"
   ]
  },
  {
   "cell_type": "markdown",
   "metadata": {
    "pycharm": {
     "name": "#%% md\n"
    }
   },
   "source": [
    "# Imports"
   ]
  },
  {
   "cell_type": "code",
   "execution_count": 4,
   "outputs": [],
   "source": [
    "import json"
   ],
   "metadata": {
    "collapsed": false,
    "pycharm": {
     "name": "#%%\n"
    }
   }
  },
  {
   "cell_type": "code",
   "execution_count": 5,
   "metadata": {
    "pycharm": {
     "name": "#%%\n"
    }
   },
   "outputs": [],
   "source": [
    "from PIL import ImageFilter"
   ]
  },
  {
   "cell_type": "code",
   "execution_count": 6,
   "metadata": {
    "pycharm": {
     "name": "#%%\n"
    }
   },
   "outputs": [],
   "source": [
    "import pytesseract\n",
    "\n",
    "tesseract_install_path = r\"C:\\Program Files\\Tesseract-OCR\\tesseract.exe\" # needs updating depending on x64-x86 and OS\n",
    "pytesseract.pytesseract.tesseract_cmd = tesseract_install_path"
   ]
  },
  {
   "cell_type": "code",
   "execution_count": 7,
   "metadata": {
    "pycharm": {
     "name": "#%%\n"
    }
   },
   "outputs": [],
   "source": [
    "import nltk"
   ]
  },
  {
   "cell_type": "code",
   "execution_count": 8,
   "metadata": {
    "pycharm": {
     "name": "#%%\n"
    }
   },
   "outputs": [],
   "source": [
    "from rightmove_webscraper import RightmoveData"
   ]
  },
  {
   "cell_type": "code",
   "execution_count": 9,
   "metadata": {
    "pycharm": {
     "name": "#%%\n"
    }
   },
   "outputs": [
    {
     "data": {
      "text/plain": "<module 'ukpropsearch_utils' from 'C:\\\\Users\\\\alexl\\\\Documents\\\\GitHub\\\\UK-property-searcher\\\\ukpropsearch_utils.py'>"
     },
     "execution_count": 9,
     "metadata": {},
     "output_type": "execute_result"
    }
   ],
   "source": [
    "import os\n",
    "import shutil\n",
    "import re\n",
    "import ukpropsearch_utils as utils\n",
    "import importlib\n",
    "importlib.reload(utils)"
   ]
  },
  {
   "cell_type": "code",
   "execution_count": 10,
   "metadata": {
    "pycharm": {
     "name": "#%%\n"
    }
   },
   "outputs": [],
   "source": [
    "from bs4 import BeautifulSoup\n",
    "from selenium import webdriver"
   ]
  },
  {
   "cell_type": "code",
   "execution_count": 11,
   "metadata": {
    "pycharm": {
     "name": "#%%\n"
    }
   },
   "outputs": [],
   "source": [
    "from PIL import Image"
   ]
  },
  {
   "cell_type": "code",
   "execution_count": 12,
   "metadata": {
    "pycharm": {
     "name": "#%%\n"
    }
   },
   "outputs": [
    {
     "name": "stdout",
     "output_type": "stream",
     "text": [
      "2022-03-23 14:43:13,684 | [DEBUG] Log created: ./_logs/20220323-144313.txt\n"
     ]
    }
   ],
   "source": [
    "logger = utils.get_logger()"
   ]
  },
  {
   "cell_type": "markdown",
   "metadata": {
    "pycharm": {
     "name": "#%% md\n"
    }
   },
   "source": [
    "## Rightmove string building"
   ]
  },
  {
   "cell_type": "code",
   "execution_count": 13,
   "metadata": {
    "pycharm": {
     "name": "#%%\n"
    }
   },
   "outputs": [],
   "source": [
    "london_r3miles_url = \"https://www.rightmove.co.uk/property-for-sale/find.html?minBedrooms=2&keywords=&dontShow=sharedOwnership%2Cretirement&channel=BUY&index=0&retirement=false&maxBedrooms=2&includeSSTC=false&partBuyPartRent=false&sortType=2&minPrice=400000&viewType=LIST&maxPrice=450000&radius=3.0&maxDaysSinceAdded=14&locationIdentifier=REGION%5E87490\""
   ]
  },
  {
   "cell_type": "code",
   "execution_count": 14,
   "metadata": {
    "pycharm": {
     "name": "#%%\n"
    }
   },
   "outputs": [
    {
     "data": {
      "text/plain": "   number_bedrooms  count           mean\n0                2    574  449058.885017",
      "text/html": "<div>\n<style scoped>\n    .dataframe tbody tr th:only-of-type {\n        vertical-align: middle;\n    }\n\n    .dataframe tbody tr th {\n        vertical-align: top;\n    }\n\n    .dataframe thead th {\n        text-align: right;\n    }\n</style>\n<table border=\"1\" class=\"dataframe\">\n  <thead>\n    <tr style=\"text-align: right;\">\n      <th></th>\n      <th>number_bedrooms</th>\n      <th>count</th>\n      <th>mean</th>\n    </tr>\n  </thead>\n  <tbody>\n    <tr>\n      <td>0</td>\n      <td>2</td>\n      <td>574</td>\n      <td>449058.885017</td>\n    </tr>\n  </tbody>\n</table>\n</div>"
     },
     "execution_count": 14,
     "metadata": {},
     "output_type": "execute_result"
    }
   ],
   "source": [
    "london_r3miles = RightmoveData(london_r3miles_url)\n",
    "london_r3miles_results = london_r3miles.get_results\n",
    "london_r3miles.summary()"
   ]
  },
  {
   "cell_type": "code",
   "execution_count": 39,
   "metadata": {
    "pycharm": {
     "name": "#%%\n"
    }
   },
   "outputs": [
    {
     "name": "stdout",
     "output_type": "stream",
     "text": [
      "StricklandHouseChambordStreetLondonE2\n",
      "http://www.rightmove.co.uk/properties/121110944#/\n",
      "http://www.rightmove.co.uk/properties/121110944#/floorplan\n"
     ]
    }
   ],
   "source": [
    "test_property = london_r3miles_results.iloc[3]\n",
    "test_property_url = test_property.url\n",
    "test_property_url = test_property_url.split('#')[0] + \"#/\"\n",
    "test_property_floorplan_url = test_property_url + \"floorplan\"\n",
    "test_property_hashkey = re.sub(r'[^\\w]', '', f\"{test_property.address}\")\n",
    "print(test_property_hashkey)\n",
    "print(test_property_url)\n",
    "print(test_property_floorplan_url)"
   ]
  },
  {
   "cell_type": "code",
   "execution_count": 40,
   "metadata": {
    "pycharm": {
     "name": "#%%\n"
    }
   },
   "outputs": [],
   "source": [
    "cache_folder = f'{os.getcwd()}\\\\cache'\n",
    "images_folder = f'{os.getcwd()}\\\\images'\n",
    "floorplan_imgs_hd_download_folder = f\"{cache_folder}\\\\{test_property_hashkey}\"\n",
    "floorplan_imgs_hd_download_fullpath = f\"{floorplan_imgs_hd_download_folder}\\\\{test_property_hashkey}.html\"\n",
    "\n",
    "# Make sure cache folder exists\n",
    "if not os.path.exists(cache_folder):\n",
    "    os.mkdir(cache_folder)\n",
    "\n",
    "# Make sure images folder exists\n",
    "if not os.path.exists(images_folder):\n",
    "    os.mkdir(images_folder)\n",
    "\n",
    "# Floorplan destination image fullpath\n",
    "floorplan_destination_img_filename = test_property_hashkey\n",
    "floorplan_destination_img_path = os.path.join(images_folder, floorplan_destination_img_filename)"
   ]
  },
  {
   "cell_type": "code",
   "execution_count": 41,
   "metadata": {
    "pycharm": {
     "name": "#%%\n"
    }
   },
   "outputs": [
    {
     "data": {
      "text/plain": "'C:\\\\Users\\\\alexl\\\\Documents\\\\GitHub\\\\UK-property-searcher\\\\images\\\\StricklandHouseChambordStreetLondonE2'"
     },
     "execution_count": 41,
     "metadata": {},
     "output_type": "execute_result"
    }
   ],
   "source": [
    "floorplan_destination_img_path"
   ]
  },
  {
   "cell_type": "code",
   "execution_count": 42,
   "metadata": {
    "pycharm": {
     "name": "#%%\n"
    }
   },
   "outputs": [],
   "source": [
    "if not utils.file_exists_with_or_without_extension(floorplan_destination_img_path):\n",
    "    # Open Chrome at url and maximise\n",
    "    driver = webdriver.Chrome()  # Optional argument, if not specified will search path.\n",
    "    driver.minimize_window()\n",
    "    driver.get(test_property_floorplan_url);\n",
    "\n",
    "    # Download image\n",
    "    img_urls = []\n",
    "    soup = BeautifulSoup(driver.page_source,\"html.parser\")\n",
    "    for link in soup.find_all('img'):\n",
    "        img_urls.append(link['src'])\n",
    "\n",
    "    test_property_floorplan_url = [url for url in img_urls if \"FLP\" in url][0]\n",
    "    floorplan_destination_img_path += utils.get_file_extension(test_property_floorplan_url)\n",
    "\n",
    "    # Download image\n",
    "    utils.download_image(test_property_floorplan_url, floorplan_destination_img_path)\n",
    "    driver.close()"
   ]
  },
  {
   "cell_type": "code",
   "execution_count": 43,
   "metadata": {
    "pycharm": {
     "name": "#%%\n"
    }
   },
   "outputs": [
    {
     "data": {
      "text/plain": "'C:\\\\Users\\\\alexl\\\\Documents\\\\GitHub\\\\UK-property-searcher\\\\images\\\\StricklandHouseChambordStreetLondonE2.jpeg'"
     },
     "execution_count": 43,
     "metadata": {},
     "output_type": "execute_result"
    }
   ],
   "source": [
    "floorplan_destination_img_path"
   ]
  },
  {
   "cell_type": "markdown",
   "metadata": {
    "pycharm": {
     "name": "#%% md\n"
    }
   },
   "source": [
    "# Text recognition"
   ]
  },
  {
   "cell_type": "code",
   "execution_count": 44,
   "metadata": {
    "pycharm": {
     "name": "#%%\n"
    }
   },
   "outputs": [
    {
     "data": {
      "text/plain": "'C:\\\\Users\\\\alexl\\\\Documents\\\\GitHub\\\\UK-property-searcher\\\\images\\\\StricklandHouseChambordStreetLondonE2_upscaled.jpeg'"
     },
     "execution_count": 44,
     "metadata": {},
     "output_type": "execute_result"
    }
   ],
   "source": [
    "upscaled_img_path = f\"{floorplan_destination_img_path.split('.')[0]}_upscaled.{floorplan_destination_img_path.split('.')[-1]}\"\n",
    "upscaled_img_path"
   ]
  },
  {
   "cell_type": "code",
   "execution_count": 45,
   "metadata": {
    "pycharm": {
     "name": "#%%\n"
    }
   },
   "outputs": [],
   "source": [
    "# Upscale image\n",
    "scale_factor = 3\n",
    "image = Image.open(floorplan_destination_img_path)\n",
    "new_size = (int(image.width * 3), int(image.height * 3))\n",
    "image = image.filter(ImageFilter.SHARPEN)\n",
    "image_upscaled = image.resize(new_size, resample=Image.ADAPTIVE)\n",
    "image_upscaled = image_upscaled.filter(ImageFilter.SHARPEN)\n",
    "image_upscaled.save(upscaled_img_path, format='JPEG', subsampling=0, quality=100)"
   ]
  },
  {
   "cell_type": "code",
   "execution_count": 46,
   "metadata": {
    "pycharm": {
     "name": "#%%\n"
    }
   },
   "outputs": [],
   "source": [
    "# Simple image to string\n",
    "floorplan_text = pytesseract.image_to_string(Image.open(upscaled_img_path)).split(\"\\n\")"
   ]
  },
  {
   "cell_type": "code",
   "execution_count": 47,
   "metadata": {
    "pycharm": {
     "name": "#%%\n"
    }
   },
   "outputs": [
    {
     "name": "stdout",
     "output_type": "stream",
     "text": [
      "2022-03-20 18:24:47,255 | [DEBUG] [\n",
      "    \"x x x RECEPTION\",\n",
      "    \"Ee. \\u20ac 151 x 10'4\",\n",
      "    \"<i (4.6m x 3.1m)\",\n",
      "    \"BEDROOM 2\",\n",
      "    \"13'11 x 8'6\",\n",
      "    \"(4.2m x 2.6m)\",\n",
      "    \"BEDROOM 1\",\n",
      "    \"1510 x 8'6\",\n",
      "    \"(4.8m x 2.6m)\",\n",
      "    \"FOURTH FLOOR\",\n",
      "    \"GROSS INTERNAL\",\n",
      "    \"FLOOR AREA 701 SQ FT\",\n",
      "    \"APPROX. GROSS INTERNAL FLOOR AREA 701 SQ FT / 65.1 SQM\"\n",
      "]\n"
     ]
    }
   ],
   "source": [
    "floorplan_text = [t.replace(\"\\n\", \"\") for t in floorplan_text if t and len(t)>4]\n",
    "logger.debug(json.dumps(floorplan_text, indent=4))"
   ]
  },
  {
   "cell_type": "code",
   "execution_count": 48,
   "metadata": {
    "pycharm": {
     "name": "#%%\n"
    }
   },
   "outputs": [
    {
     "name": "stderr",
     "output_type": "stream",
     "text": [
      "[nltk_data] Downloading package wordnet to\n",
      "[nltk_data]     C:\\Users\\alexl\\AppData\\Roaming\\nltk_data...\n",
      "[nltk_data]   Package wordnet is already up-to-date!\n"
     ]
    },
    {
     "data": {
      "text/plain": "True"
     },
     "execution_count": 48,
     "metadata": {},
     "output_type": "execute_result"
    }
   ],
   "source": [
    "from nltk.corpus import wordnet\n",
    "nltk.download(\"wordnet\")"
   ]
  },
  {
   "cell_type": "code",
   "execution_count": 49,
   "metadata": {
    "pycharm": {
     "name": "#%%\n"
    }
   },
   "outputs": [],
   "source": [
    "room_hyponyms = wordnet.synsets('room')[0].hyponyms()"
   ]
  },
  {
   "cell_type": "code",
   "execution_count": 50,
   "metadata": {
    "pycharm": {
     "name": "#%%\n"
    }
   },
   "outputs": [],
   "source": [
    "room_hyponyms = [hyp.lemma_names() for hyp in room_hyponyms]"
   ]
  },
  {
   "cell_type": "code",
   "execution_count": 51,
   "metadata": {
    "pycharm": {
     "name": "#%%\n"
    }
   },
   "outputs": [],
   "source": [
    "# selectMany\n",
    "room_names_set = set([hpy.replace('_', ' ') for hyp_lemma in room_hyponyms for hpy in hyp_lemma])"
   ]
  },
  {
   "cell_type": "code",
   "execution_count": 52,
   "metadata": {
    "pycharm": {
     "name": "#%%\n"
    }
   },
   "outputs": [],
   "source": [
    "# Utility spaces hyponyms\n",
    "utility_space_hyponyms = [\"driveway\", \"garage\", \"utility room\", \"utility\"]"
   ]
  },
  {
   "cell_type": "code",
   "execution_count": 53,
   "metadata": {
    "pycharm": {
     "name": "#%%\n"
    }
   },
   "outputs": [],
   "source": [
    "# Outdoor space hyponyms\n",
    "outdoor_space_hyponyms = [\"patio\", \"garden\", \"terrace\", \"balcony\"]\n",
    "outdoor_space_hyponyms_communal = [f\"communal {hyp}\" for hyp in outdoor_space_hyponyms]\n",
    "outdoor_space_hyponyms_private = [f\"private {hyp}\" for hyp in outdoor_space_hyponyms]"
   ]
  },
  {
   "cell_type": "code",
   "execution_count": 54,
   "metadata": {
    "pycharm": {
     "name": "#%%\n"
    }
   },
   "outputs": [],
   "source": [
    "# Add more names\n",
    "room_names_set.update([\"studio\", \"garden studio\"])\n",
    "room_names_set.update(outdoor_space_hyponyms)\n",
    "room_names = list(room_names_set)"
   ]
  },
  {
   "cell_type": "code",
   "execution_count": 55,
   "metadata": {
    "pycharm": {
     "name": "#%%\n"
    }
   },
   "outputs": [],
   "source": [
    "room_names = [name for name in room_names if \"floor\" not in name]"
   ]
  },
  {
   "cell_type": "code",
   "execution_count": 56,
   "metadata": {
    "pycharm": {
     "name": "#%%\n"
    }
   },
   "outputs": [
    {
     "data": {
      "text/plain": "[3, 6]"
     },
     "execution_count": 56,
     "metadata": {},
     "output_type": "execute_result"
    }
   ],
   "source": [
    "# find room names in the floorplan\n",
    "room_indexes = sorted(list(set([floorplan_text.index(t) for room_name in room_names for t in floorplan_text if len(t) < 30 and room_name in t.lower()])))\n",
    "room_indexes"
   ]
  },
  {
   "cell_type": "code",
   "execution_count": 57,
   "metadata": {
    "pycharm": {
     "name": "#%%\n"
    }
   },
   "outputs": [
    {
     "data": {
      "text/plain": "['BEDROOM 2', 'BEDROOM 1']"
     },
     "execution_count": 57,
     "metadata": {},
     "output_type": "execute_result"
    }
   ],
   "source": [
    "rooms_found = [floorplan_text[index] for index in room_indexes]\n",
    "rooms_found"
   ]
  },
  {
   "cell_type": "code",
   "execution_count": 58,
   "metadata": {
    "pycharm": {
     "name": "#%%\n"
    }
   },
   "outputs": [],
   "source": [
    "# Floor number\n",
    "# Generate all ordinal names for floor\n",
    "floor_ordinal_names = [\"basement\", \"lower ground\", \"ground\"]\n",
    "floor_ordinal_names.extend([\"roof\"])\n",
    "floor_ordinal_names.extend(utils.ordinal(i) for i in range(1,100))"
   ]
  },
  {
   "cell_type": "code",
   "execution_count": 59,
   "metadata": {
    "pycharm": {
     "name": "#%%\n"
    }
   },
   "outputs": [
    {
     "data": {
      "text/plain": "'APPROX. GROSS INTERNAL FLOOR AREA 701 SQ FT / 65.1 SQM'"
     },
     "execution_count": 59,
     "metadata": {},
     "output_type": "execute_result"
    }
   ],
   "source": [
    "internal_area_names = [\"approx. gross internal floor area\", \"approx. gross internal floor area\", \"internal floor area\", \"floor area\"]\n",
    "internal_area_names_text = list(set([text for text in floorplan_text for ian in internal_area_names if ian in text.lower()]))\n",
    "internal_area_names_text.sort(key=lambda s: len(s))\n",
    "internal_area_names_text.reverse()\n",
    "internal_area_names_text = internal_area_names_text[0]\n",
    "internal_area_names_text"
   ]
  },
  {
   "cell_type": "code",
   "execution_count": 60,
   "metadata": {
    "pycharm": {
     "name": "#%%\n"
    }
   },
   "outputs": [],
   "source": [
    "area_unit_names = [\"sqm\", \"sqmt\", \"sqft\", \"sqf\", \"sq. ft\", \"sq. m\"]"
   ]
  },
  {
   "cell_type": "code",
   "execution_count": 61,
   "metadata": {
    "pycharm": {
     "name": "#%%\n"
    }
   },
   "outputs": [
    {
     "data": {
      "text/plain": "'APPROX. GROSS INTERNAL FLOOR AREA 701 SQ FT / 65.1 SQM'"
     },
     "execution_count": 61,
     "metadata": {},
     "output_type": "execute_result"
    }
   ],
   "source": [
    "internal_area_names_text"
   ]
  },
  {
   "cell_type": "code",
   "execution_count": 62,
   "metadata": {
    "pycharm": {
     "name": "#%%\n"
    }
   },
   "outputs": [
    {
     "data": {
      "text/plain": "['65.1sqm']"
     },
     "execution_count": 62,
     "metadata": {},
     "output_type": "execute_result"
    }
   ],
   "source": [
    "regex = re.compile(rf'[0-9\\.\\s]+(?:{\"|\".join(area_unit_names)})')\n",
    "area_texts = regex.findall(internal_area_names_text.lower())\n",
    "area_texts = [at.replace(\" \",\"\") for at in area_texts]\n",
    "area_texts"
   ]
  },
  {
   "cell_type": "code",
   "execution_count": 63,
   "metadata": {
    "pycharm": {
     "name": "#%%\n"
    }
   },
   "outputs": [
    {
     "data": {
      "text/plain": "[['65.1', 'sqm']]"
     },
     "execution_count": 63,
     "metadata": {},
     "output_type": "execute_result"
    }
   ],
   "source": [
    "areas = [re.findall(r'[A-Za-z]+|\\d+(?:\\.\\d+)?', s) for s in area_texts]\n",
    "areas = [\"\".join(a) for a in areas]\n",
    "areas = [re.findall(r'[A-Za-z]+|\\d+(?:\\.\\d+)?', s) for s in areas]\n",
    "areas"
   ]
  },
  {
   "cell_type": "code",
   "execution_count": 180,
   "metadata": {
    "pycharm": {
     "name": "#%%\n"
    }
   },
   "outputs": [],
   "source": []
  },
  {
   "cell_type": "code",
   "execution_count": 180,
   "metadata": {
    "pycharm": {
     "name": "#%%\n"
    }
   },
   "outputs": [],
   "source": []
  }
 ],
 "metadata": {
  "kernelspec": {
   "display_name": "Python 3 (ipykernel)",
   "language": "python",
   "name": "python3"
  },
  "language_info": {
   "codemirror_mode": {
    "name": "ipython",
    "version": 3
   },
   "file_extension": ".py",
   "mimetype": "text/x-python",
   "name": "python",
   "nbconvert_exporter": "python",
   "pygments_lexer": "ipython3",
   "version": "3.9.7"
  },
  "toc": {
   "base_numbering": 1,
   "nav_menu": {},
   "number_sections": true,
   "sideBar": true,
   "skip_h1_title": false,
   "title_cell": "Table of Contents",
   "title_sidebar": "Contents",
   "toc_cell": false,
   "toc_position": {},
   "toc_section_display": true,
   "toc_window_display": false
  }
 },
 "nbformat": 4,
 "nbformat_minor": 1
}