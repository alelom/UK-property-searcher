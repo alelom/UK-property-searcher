{
 "cells": [
  {
   "cell_type": "code",
   "execution_count": 32,
   "outputs": [
    {
     "name": "stdout",
     "output_type": "stream",
     "text": "\u001B[33mWARNING: You are using pip version 22.0.3; however, version 22.0.4 is available.\r\nYou should consider upgrading via the '/usr/bin/python3.8 -m pip install --upgrade pip' command.\u001B[0m\u001B[33m\r\n\u001B[0m\u001B[33mWARNING: You are using pip version 22.0.3; however, version 22.0.4 is available.\r\nYou should consider upgrading via the '/usr/bin/python3.8 -m pip install --upgrade pip' command.\u001B[0m\u001B[33m\r\n\u001B[0m\u001B[33mWARNING: You are using pip version 22.0.3; however, version 22.0.4 is available.\r\nYou should consider upgrading via the '/usr/bin/python3.8 -m pip install --upgrade pip' command.\u001B[0m\u001B[33m\r\n\u001B[0m"
    }
   ],
   "source": [
    "! pip install --user rightmove-webscraper --quiet\n",
    "! pip install pytesseract --quiet\n",
    "! pip install requests --quiet\n",
    "! pip install bs4"
   ],
   "metadata": {
    "collapsed": false,
    "pycharm": {
     "name": "#%%\n"
    },
    "trusted": false
   }
  },
  {
   "cell_type": "markdown",
   "source": [
    "# Imports"
   ],
   "metadata": {
    "collapsed": false,
    "pycharm": {
     "name": "#%% md\n"
    }
   }
  },
  {
   "cell_type": "code",
   "execution_count": 21,
   "outputs": [],
   "source": [
    "from rightmove_webscraper import RightmoveData\n",
    "import pandas as pd"
   ],
   "metadata": {
    "collapsed": false,
    "pycharm": {
     "name": "#%%\n"
    },
    "trusted": false
   }
  },
  {
   "cell_type": "code",
   "execution_count": 4,
   "outputs": [],
   "source": [
    "import requests\n",
    "from bs4 import BeautifulSoup\n",
    "import json\n",
    "from ukpropsearch_utils import *"
   ],
   "metadata": {
    "collapsed": false,
    "pycharm": {
     "name": "#%%\n"
    },
    "trusted": false
   }
  },
  {
   "cell_type": "markdown",
   "source": [
    "## Utils"
   ],
   "metadata": {
    "collapsed": false,
    "pycharm": {
     "name": "#%% md\n"
    }
   }
  },
  {
   "cell_type": "code",
   "execution_count": 6,
   "outputs": [
    {
     "data": {
      "text/plain": "['gna-1', 'gna-2', 'zurli-1']"
     },
     "execution_count": 6,
     "metadata": {},
     "output_type": "execute_result"
    }
   ],
   "source": [
    "only_text_containing([\"gna-1\", \"gna-2\", \"zurli-1\", \"peppo-1\"], [\"gna\", \"zurli\"])"
   ],
   "metadata": {
    "collapsed": false,
    "pycharm": {
     "name": "#%%\n"
    },
    "trusted": false
   }
  },
  {
   "cell_type": "markdown",
   "source": "## Rightmove string building",
   "metadata": {
    "collapsed": false,
    "pycharm": {
     "name": "#%% md\n"
    }
   }
  },
  {
   "cell_type": "code",
   "execution_count": 17,
   "outputs": [],
   "source": "london_r3miles_url = \"https://www.rightmove.co.uk/property-for-sale/find.html?minBedrooms=2&keywords=&dontShow=sharedOwnership%2Cretirement&channel=BUY&index=0&retirement=false&maxBedrooms=2&includeSSTC=false&partBuyPartRent=false&sortType=2&minPrice=400000&viewType=LIST&maxPrice=450000&radius=3.0&maxDaysSinceAdded=14&locationIdentifier=REGION%5E87490\"",
   "metadata": {
    "collapsed": false,
    "pycharm": {
     "name": "#%%\n"
    },
    "trusted": false
   }
  },
  {
   "cell_type": "code",
   "execution_count": 25,
   "outputs": [
    {
     "data": {
      "text/plain": "   number_bedrooms  count           mean\n0                2    575  449130.434783",
      "text/html": "<div>\n<style scoped>\n    .dataframe tbody tr th:only-of-type {\n        vertical-align: middle;\n    }\n\n    .dataframe tbody tr th {\n        vertical-align: top;\n    }\n\n    .dataframe thead th {\n        text-align: right;\n    }\n</style>\n<table border=\"1\" class=\"dataframe\">\n  <thead>\n    <tr style=\"text-align: right;\">\n      <th></th>\n      <th>number_bedrooms</th>\n      <th>count</th>\n      <th>mean</th>\n    </tr>\n  </thead>\n  <tbody>\n    <tr>\n      <th>0</th>\n      <td>2</td>\n      <td>575</td>\n      <td>449130.434783</td>\n    </tr>\n  </tbody>\n</table>\n</div>"
     },
     "execution_count": 25,
     "metadata": {},
     "output_type": "execute_result"
    }
   ],
   "source": "london_r3miles = RightmoveData(london_r3miles_url)\nlondon_r3miles_results = london_r3miles.get_results\nlondon_r3miles.summary()",
   "metadata": {
    "collapsed": false,
    "pycharm": {
     "name": "#%%\n"
    },
    "trusted": false
   }
  },
  {
   "cell_type": "code",
   "execution_count": 83,
   "outputs": [],
   "source": "test_result = london_r3miles_results.url[0]",
   "metadata": {
    "collapsed": false,
    "pycharm": {
     "name": "#%%\n"
    },
    "trusted": false
   }
  },
  {
   "cell_type": "code",
   "execution_count": 84,
   "outputs": [],
   "source": "html_data = requests.get(test_result).text",
   "metadata": {
    "collapsed": false,
    "pycharm": {
     "name": "#%%\n"
    },
    "trusted": false
   }
  },
  {
   "cell_type": "code",
   "execution_count": 108,
   "outputs": [],
   "source": "soup = BeautifulSoup(html_data, 'html.parser')\nall_items = soup.find_all()\nall_items_str = [str(item) for item in all_items]",
   "metadata": {
    "collapsed": false,
    "pycharm": {
     "name": "#%%\n"
    },
    "trusted": false
   }
  },
  {
   "cell_type": "code",
   "execution_count": null,
   "outputs": [],
   "source": "with open('test.txt', mode='wt', encoding='utf-8') as myfile:\n    myfile.write('\\n'.join(all_items_str))",
   "metadata": {
    "collapsed": false,
    "pycharm": {
     "name": "#%%\n"
    },
    "trusted": false
   }
  },
  {
   "cell_type": "code",
   "execution_count": 137,
   "outputs": [],
   "source": "img_urls_hd = [item for item in all_items_str if \"png\" in item or \"jpg\" in item or \"jpeg\" in item]\nfloorplan_imgs_hd = [i for i in img_urls_hd if \"floorplan\" in str(img_urls_hd).lower()]",
   "metadata": {
    "collapsed": false,
    "pycharm": {
     "name": "#%%\n"
    },
    "trusted": false
   }
  },
  {
   "cell_type": "code",
   "execution_count": 140,
   "outputs": [
    {
     "name": "stdout",
     "output_type": "stream",
     "text": "1389\n72\n72\n"
    }
   ],
   "source": "print(len(all_items_str))\nprint(len(img_urls_hd))\nprint(len(floorplan_imgs_hd))",
   "metadata": {
    "collapsed": false,
    "pycharm": {
     "name": "#%%\n"
    },
    "trusted": false
   }
  },
  {
   "cell_type": "code",
   "execution_count": 129,
   "outputs": [
    {
     "name": "stdout",
     "output_type": "stream",
     "text": "0\n"
    }
   ],
   "source": "gna = only_text_containing(all_items_str, [\"png, jpg\"])\nprint(len(gna))",
   "metadata": {
    "collapsed": false,
    "pycharm": {
     "name": "#%%\n"
    },
    "trusted": false
   }
  },
  {
   "cell_type": "code",
   "execution_count": 118,
   "outputs": [],
   "source": "img_urls_hd = len(img_urls_hd)",
   "metadata": {
    "collapsed": false,
    "pycharm": {
     "name": "#%%\n"
    },
    "trusted": false
   }
  },
  {
   "cell_type": "code",
   "execution_count": 86,
   "outputs": [
    {
     "name": "stdout",
     "output_type": "stream",
     "text": "https://media.rightmove.co.uk/dir/56k/55101/121165013/55101_1197997_FLP_00_0000_max_296x197.png\n"
    }
   ],
   "source": "soup = BeautifulSoup(html_data, 'html.parser')\nall_img_urls = soup.find_all('img')\nfor item in all_img_urls:\n    if (\"floorplan\" in item[\"alt\"].lower()):\n        print(item[\"src\"])",
   "metadata": {
    "collapsed": false,
    "pycharm": {
     "name": "#%%\n"
    },
    "trusted": false
   }
  },
  {
   "cell_type": "code",
   "execution_count": 116,
   "outputs": [],
   "source": "",
   "metadata": {
    "collapsed": false,
    "pycharm": {
     "name": "#%%\n"
    },
    "trusted": false
   }
  },
  {
   "cell_type": "code",
   "execution_count": 74,
   "outputs": [
    {
     "data": {
      "text/plain": "[<img alt=\"Exterior\" data-object-fit=\"cover\" loading=\"lazy\" src=\"https://media.rightmove.co.uk/dir/6k/5865/121086218/5865_EAL160142_IMG_00_0000_max_656x437.jpeg\"/>,\n <img alt=\"Reception Room\" data-object-fit=\"cover\" loading=\"lazy\" src=\"https://media.rightmove.co.uk/dir/6k/5865/121086218/5865_EAL160142_IMG_01_0000_max_656x437.jpeg\"/>,\n <img alt=\"Kitchen\" data-object-fit=\"cover\" loading=\"lazy\" src=\"https://media.rightmove.co.uk/dir/6k/5865/121086218/5865_EAL160142_IMG_02_0000_max_656x437.jpeg\"/>,\n <img alt=\"Stirling Ackroyd, Ealing\" loading=\"lazy\" src=\"https://media.rightmove.co.uk/brand/brand_logo_68390_0002.jpeg\"/>,\n <img alt=\"Floorplan\" loading=\"lazy\" src=\"https://media.rightmove.co.uk/dir/6k/5865/121086218/5865_EAL160142_FLP_00_0000_max_296x197.jpeg\"/>,\n <img alt=\"Stirling Ackroyd, Ealing\" loading=\"lazy\" src=\"https://media.rightmove.co.uk/brand/brand_logo_68390_0002.jpeg\"/>]"
     },
     "execution_count": 74,
     "metadata": {},
     "output_type": "execute_result"
    }
   ],
   "source": "floorplan_image_urls(all_img_urls)",
   "metadata": {
    "collapsed": false,
    "pycharm": {
     "name": "#%%\n"
    },
    "trusted": false
   }
  },
  {
   "cell_type": "code",
   "execution_count": null,
   "outputs": [],
   "source": "",
   "metadata": {
    "collapsed": false,
    "pycharm": {
     "name": "#%%\n"
    },
    "trusted": false
   }
  }
 ],
 "metadata": {
  "kernelspec": {
   "display_name": "Python 3",
   "language": "python",
   "name": "python3"
  },
  "language_info": {
   "codemirror_mode": {
    "name": "ipython",
    "version": 2
   },
   "file_extension": ".py",
   "mimetype": "text/x-python",
   "name": "python",
   "nbconvert_exporter": "python",
   "pygments_lexer": "ipython2",
   "version": "2.7.6"
  }
 },
 "nbformat": 4,
 "nbformat_minor": 0
}